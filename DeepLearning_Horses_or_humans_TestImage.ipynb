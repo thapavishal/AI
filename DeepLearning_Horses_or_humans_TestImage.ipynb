{
  "nbformat": 4,
  "nbformat_minor": 0,
  "metadata": {
    "colab": {
      "name": "DeepLearning_Horses-or-humans--TestImage.ipynb",
      "provenance": []
    },
    "kernelspec": {
      "name": "python3",
      "display_name": "Python 3"
    }
  },
  "cells": [
    {
      "cell_type": "code",
      "metadata": {
        "id": "RYIYvQMNj-Cj"
      },
      "source": [
        "# Predict Horse or Human\r\n",
        " \r\n",
        "#Here we are loading train CNN model to predict Given input (image) is Horse of Human\r\n",
        " \r\n",
        "# Import Libraries\r\n",
        " \r\n",
        "# Load Liraries\r\n",
        "import numpy as np\r\n",
        " \r\n",
        "import keras \r\n",
        "from keras.preprocessing.image import ImageDataGenerator"
      ],
      "execution_count": 1,
      "outputs": []
    },
    {
      "cell_type": "code",
      "metadata": {
        "id": "pwuLjQRxkKnZ"
      },
      "source": [
        "\"\"\"# Import Model\"\"\"\r\n",
        " \r\n",
        "model_path1 = '/content/drive/MyDrive/horse-or-human/horse_or_human_predictor.h5' #new model.ipynb\r\n",
        " \r\n",
        "model1 = keras.models.load_model(model_path1)\r\n"
      ],
      "execution_count": 2,
      "outputs": []
    },
    {
      "cell_type": "code",
      "metadata": {
        "id": "Z0t-OXDFkt8U"
      },
      "source": [
        "\"\"\"#Preprocessing\"\"\"\r\n",
        " \r\n",
        "#horse image path\r\n",
        "h1 = '/content/drive/MyDrive/horse-or-human/test/horse/h1.jpg'\r\n",
        "h2 = '/content/drive/MyDrive/horse-or-human/test/horse/h2.jpg'\r\n",
        "h3 = '/content/drive/MyDrive/horse-or-human/test/horse/h3.jpg'\r\n",
        "h4 = '/content/drive/MyDrive/horse-or-human/test/horse/h4.jpg'\r\n",
        "h5 = '/content/drive/MyDrive/horse-or-human/test/horse/h5.jpg'\r\n",
        " \r\n",
        "#human image path\r\n",
        "hu1 = '/content/drive/MyDrive/horse-or-human/test/human/hu1.jpg'\r\n",
        "hu2 = '/content/drive/MyDrive/horse-or-human/test/human/hu2.jpg'\r\n",
        "hu3 = '/content/drive/MyDrive/horse-or-human/test/human/hu3.jpg'\r\n",
        "hu4 = '/content/drive/MyDrive/horse-or-human/test/human/hu4.jpg'\r\n",
        "hu5 = '/content/drive/MyDrive/horse-or-human/test/human/hu5.jpg'\r\n"
      ],
      "execution_count": 3,
      "outputs": []
    },
    {
      "cell_type": "code",
      "metadata": {
        "id": "37ppMCuPlO13"
      },
      "source": [
        "import numpy as np\r\n",
        "from keras.preprocessing import image\r\n",
        " \r\n",
        "def pred_human_horse(model, horse_or_human):\r\n",
        "  test_image = image.load_img(horse_or_human, target_size = (150, 150))\r\n",
        "  test_image = image.img_to_array(test_image)/255\r\n",
        "  test_image = np.expand_dims(test_image, axis = 0)\r\n",
        " \r\n",
        "  result = model.predict(test_image).round(3)\r\n",
        " \r\n",
        "  pred = np.argmax(result)\r\n",
        "  print(result, \"--->>>\", pred)\r\n",
        " \r\n",
        "  if pred == 0:\r\n",
        "    print('Predicted>>> Horse')\r\n",
        "  else:\r\n",
        "    print('Predicted>>> Human')"
      ],
      "execution_count": 4,
      "outputs": []
    },
    {
      "cell_type": "markdown",
      "metadata": {
        "id": "j_QfyRxllZfc"
      },
      "source": [
        "# Predict Output"
      ]
    },
    {
      "cell_type": "code",
      "metadata": {
        "colab": {
          "base_uri": "https://localhost:8080/"
        },
        "id": "XBjAFSdolYm9",
        "outputId": "1f9de570-4eca-4e95-b57f-e228ff7b0311"
      },
      "source": [
        "for horse_or_human in [h1,h2,h3,h4,h5, hu1,hu2,hu3,hu4,hu5]:\r\n",
        "  pred_human_horse(model1, horse_or_human)\r\n"
      ],
      "execution_count": 6,
      "outputs": [
        {
          "output_type": "stream",
          "text": [
            "[[0.553 0.447]] --->>> 0\n",
            "Predicted>>> Horse\n",
            "[[0.429 0.571]] --->>> 1\n",
            "Predicted>>> Human\n",
            "[[0.49 0.51]] --->>> 1\n",
            "Predicted>>> Human\n",
            "[[0.437 0.563]] --->>> 1\n",
            "Predicted>>> Human\n",
            "[[0.326 0.674]] --->>> 1\n",
            "Predicted>>> Human\n",
            "[[0.615 0.385]] --->>> 0\n",
            "Predicted>>> Horse\n",
            "[[0.608 0.392]] --->>> 0\n",
            "Predicted>>> Horse\n",
            "[[0.542 0.458]] --->>> 0\n",
            "Predicted>>> Horse\n",
            "[[0.568 0.432]] --->>> 0\n",
            "Predicted>>> Horse\n",
            "[[0.439 0.561]] --->>> 1\n",
            "Predicted>>> Human\n"
          ],
          "name": "stdout"
        }
      ]
    },
    {
      "cell_type": "code",
      "metadata": {
        "id": "PcWMFWHzlbZQ"
      },
      "source": [
        ""
      ],
      "execution_count": null,
      "outputs": []
    }
  ]
}