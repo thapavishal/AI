{
  "nbformat": 4,
  "nbformat_minor": 0,
  "metadata": {
    "colab": {
      "name": "03_multi_image_classification.ipynb",
      "provenance": []
    },
    "kernelspec": {
      "name": "python3",
      "display_name": "Python 3"
    }
  },
  "cells": [
    {
      "cell_type": "code",
      "metadata": {
        "id": "saxp4VfMH9Zi",
        "colab": {
          "base_uri": "https://localhost:8080/"
        },
        "outputId": "80ca8640-5a25-400b-a7d1-f3076a43e69c"
      },
      "source": [
        "cd /content/drive/MyDrive"
      ],
      "execution_count": null,
      "outputs": [
        {
          "output_type": "stream",
          "text": [
            "/content/drive/MyDrive\n"
          ],
          "name": "stdout"
        }
      ]
    },
    {
      "cell_type": "code",
      "metadata": {
        "id": "ze8YYxhLq4fp"
      },
      "source": [
        "from keras.models import Sequential\r\n",
        "from keras.layers import Conv2D\r\n",
        "from keras.layers import MaxPooling2D, Flatten, Dense "
      ],
      "execution_count": null,
      "outputs": []
    },
    {
      "cell_type": "code",
      "metadata": {
        "id": "f-JUxy0MrX-P"
      },
      "source": [
        "model = Sequential()\r\n",
        "# step1-Convolution\r\n",
        "model.add(Conv2D(128,(3,3),input_shape=(64, 64, 3),activation='relu'))\r\n",
        "# step2-Maxpooling\r\n",
        "model.add(MaxPooling2D(pool_size = (2,2)))"
      ],
      "execution_count": null,
      "outputs": []
    },
    {
      "cell_type": "code",
      "metadata": {
        "id": "LxIMt_iwvbSB"
      },
      "source": [
        "# Adding second convolutionsl layer\r\n",
        "# step1-Convolution\r\n",
        "model.add(Conv2D(64,(3,3),activation='relu'))\r\n",
        "# step2-Maxpooling\r\n",
        "model.add(MaxPooling2D(pool_size = (2,2)))"
      ],
      "execution_count": null,
      "outputs": []
    },
    {
      "cell_type": "code",
      "metadata": {
        "id": "CD2uQd6wvdED"
      },
      "source": [
        "# Adding third convolutionsl layer\r\n",
        "# step1-Convolution\r\n",
        "model.add(Conv2D(32,(3,3),activation='relu'))\r\n",
        "# step2-Maxpooling\r\n",
        "model.add(MaxPooling2D(pool_size = (2,2)))\r\n",
        "\r\n",
        "model.add(Flatten())"
      ],
      "execution_count": null,
      "outputs": []
    },
    {
      "cell_type": "code",
      "metadata": {
        "colab": {
          "base_uri": "https://localhost:8080/"
        },
        "id": "NJJzRx5FvhMa",
        "outputId": "ad6bb1f4-02f8-4652-a0dc-e89c94a630be"
      },
      "source": [
        "model.summary()"
      ],
      "execution_count": null,
      "outputs": [
        {
          "output_type": "stream",
          "text": [
            "Model: \"sequential\"\n",
            "_________________________________________________________________\n",
            "Layer (type)                 Output Shape              Param #   \n",
            "=================================================================\n",
            "conv2d (Conv2D)              (None, 62, 62, 128)       3584      \n",
            "_________________________________________________________________\n",
            "max_pooling2d (MaxPooling2D) (None, 31, 31, 128)       0         \n",
            "_________________________________________________________________\n",
            "conv2d_1 (Conv2D)            (None, 29, 29, 64)        73792     \n",
            "_________________________________________________________________\n",
            "max_pooling2d_1 (MaxPooling2 (None, 14, 14, 64)        0         \n",
            "_________________________________________________________________\n",
            "conv2d_2 (Conv2D)            (None, 12, 12, 32)        18464     \n",
            "_________________________________________________________________\n",
            "max_pooling2d_2 (MaxPooling2 (None, 6, 6, 32)          0         \n",
            "_________________________________________________________________\n",
            "flatten (Flatten)            (None, 1152)              0         \n",
            "=================================================================\n",
            "Total params: 95,840\n",
            "Trainable params: 95,840\n",
            "Non-trainable params: 0\n",
            "_________________________________________________________________\n"
          ],
          "name": "stdout"
        }
      ]
    },
    {
      "cell_type": "code",
      "metadata": {
        "id": "oJEOKPIMvkXM"
      },
      "source": [
        "from keras.preprocessing.image import ImageDataGenerator\r\n",
        "train_datagen = ImageDataGenerator(rescale = 1./255,\r\n",
        "                                   shear_range = 0.2,\r\n",
        "                                   width_shift_range = 0.3,\r\n",
        "                                   height_shift_range = 0.3,\r\n",
        "                                   zoom_range = 0.2,\r\n",
        "                                   horizontal_flip = True,\r\n",
        "                                   fill_mode = 'nearest' \r\n",
        "                                    )"
      ],
      "execution_count": null,
      "outputs": []
    },
    {
      "cell_type": "code",
      "metadata": {
        "id": "hYqBxJcMcF1l"
      },
      "source": [
        "test_datagen = ImageDataGenerator(rescale = 1./255)"
      ],
      "execution_count": null,
      "outputs": []
    },
    {
      "cell_type": "code",
      "metadata": {
        "colab": {
          "base_uri": "https://localhost:8080/"
        },
        "id": "CX6nKU9hcIO0",
        "outputId": "a1e54bfb-03ee-4a48-eead-7a38ab007e2f"
      },
      "source": [
        "batch_size = 32\r\n",
        "training_set = train_datagen.flow_from_directory('/content/drive/MyDrive/dogvscat/archive/training_set/training_set',\r\n",
        "                                                 target_size=(64,64),\r\n",
        "                                                 batch_size = batch_size,\r\n",
        "                                                 class_mode = 'categorical')"
      ],
      "execution_count": null,
      "outputs": [
        {
          "output_type": "stream",
          "text": [
            "Found 8005 images belonging to 2 classes.\n"
          ],
          "name": "stdout"
        }
      ]
    },
    {
      "cell_type": "code",
      "metadata": {
        "colab": {
          "base_uri": "https://localhost:8080/"
        },
        "id": "gFk4k2HjcgZ7",
        "outputId": "05ce36c3-a9c3-442d-f873-829a94d6cc8f"
      },
      "source": [
        "test_set = test_datagen.flow_from_directory('/content/drive/MyDrive/dogvscat/archive/test_set/test_set',\r\n",
        "                                                 target_size=(64,64),\r\n",
        "                                                 batch_size = batch_size,\r\n",
        "                                                 class_mode = 'categorical')"
      ],
      "execution_count": null,
      "outputs": [
        {
          "output_type": "stream",
          "text": [
            "Found 2023 images belonging to 2 classes.\n"
          ],
          "name": "stdout"
        }
      ]
    },
    {
      "cell_type": "code",
      "metadata": {
        "id": "Kl2zNvlBcrlu"
      },
      "source": [
        "# full connection\r\n",
        "model.add(Dense(units=256,activation='relu'))\r\n",
        "model.add(Dense(units=128,activation='relu'))\r\n",
        "model.add(Dense(units = 32,activation='relu'))\r\n",
        "model.add(Dense(units = 16,activation='relu'))\r\n",
        "# model.add(Dense(units = 16,activation='relu'))\r\n",
        "model.add(Dense(units = 2,activation='softmax'))"
      ],
      "execution_count": null,
      "outputs": []
    },
    {
      "cell_type": "code",
      "metadata": {
        "id": "olGz-maRdSK5"
      },
      "source": [
        "model.compile(optimizer='adam', loss='categorical_crossentropy', metrics=['accuracy'])"
      ],
      "execution_count": null,
      "outputs": []
    },
    {
      "cell_type": "code",
      "metadata": {
        "colab": {
          "base_uri": "https://localhost:8080/"
        },
        "id": "aqMdY7aNd0Rc",
        "outputId": "aeb844dd-2425-4b69-fda3-cee959f52154"
      },
      "source": [
        "history = model.fit(training_set,\r\n",
        "          steps_per_epoch = 8005//batch_size,\r\n",
        "          validation_data = test_set,\r\n",
        "          validation_steps = 2023//batch_size,\r\n",
        "          epochs = 5)\r\n",
        "model.save('/content/drive/MyDrive/dogvscat/cat_vs_dogv2.h5')"
      ],
      "execution_count": null,
      "outputs": [
        {
          "output_type": "stream",
          "text": [
            "Epoch 1/5\n",
            "250/250 [==============================] - 3962s 16s/step - loss: 0.6924 - accuracy: 0.5186 - val_loss: 0.6863 - val_accuracy: 0.5367\n",
            "Epoch 2/5\n",
            "250/250 [==============================] - 163s 652ms/step - loss: 0.6873 - accuracy: 0.5420 - val_loss: 0.6891 - val_accuracy: 0.5779\n",
            "Epoch 3/5\n",
            "250/250 [==============================] - 162s 649ms/step - loss: 0.6810 - accuracy: 0.5648 - val_loss: 0.6804 - val_accuracy: 0.5570\n",
            "Epoch 4/5\n",
            "250/250 [==============================] - 162s 648ms/step - loss: 0.6804 - accuracy: 0.5674 - val_loss: 0.6709 - val_accuracy: 0.5675\n",
            "Epoch 5/5\n",
            "250/250 [==============================] - 162s 648ms/step - loss: 0.6694 - accuracy: 0.5821 - val_loss: 0.6438 - val_accuracy: 0.6300\n"
          ],
          "name": "stdout"
        }
      ]
    },
    {
      "cell_type": "code",
      "metadata": {
        "id": "_sogt2Tq0oy3"
      },
      "source": [
        "import numpy as np\r\n",
        "from keras.preprocessing import image\r\n",
        "test_image = image.load_img('/content/drive/MyDrive/dogvscat/archive/test_set/test_set/cats/cat.4001.jpg', target_size=(64,64))\r\n",
        "test_image = image.img_to_array(test_image)\r\n",
        "test_image = np.expand_dims(test_image, axis = 0)\r\n",
        "result = model.predict(test_image)\r\n",
        "result = result[0]\r\n",
        "dicts = {0:'Cat', 1:'Dog'}\r\n",
        "dicts[result]"
      ],
      "execution_count": null,
      "outputs": []
    },
    {
      "cell_type": "code",
      "metadata": {
        "colab": {
          "base_uri": "https://localhost:8080/"
        },
        "id": "-pdyMJNJ1dMx",
        "outputId": "da67c9b0-b7ee-4f04-ea18-b3cb933db29f"
      },
      "source": [
        "if result [0][0] >= 1.0:\r\n",
        "  prediction = 'cat'\r\n",
        "  print(prediction)\r\n",
        "else:\r\n",
        "  prediction = 'dog'\r\n",
        "  print(prediction)"
      ],
      "execution_count": null,
      "outputs": [
        {
          "output_type": "stream",
          "text": [
            "dog\n"
          ],
          "name": "stdout"
        }
      ]
    },
    {
      "cell_type": "code",
      "metadata": {
        "id": "fmHqz2CD1iME"
      },
      "source": [
        ""
      ],
      "execution_count": null,
      "outputs": []
    }
  ]
}